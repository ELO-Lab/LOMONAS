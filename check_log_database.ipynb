{
 "cells": [
  {
   "attachments": {},
   "cell_type": "markdown",
   "metadata": {},
   "source": [
    "## MacroNAS"
   ]
  },
  {
   "attachments": {},
   "cell_type": "markdown",
   "metadata": {},
   "source": [
    "\n",
    "- For MacroNAS, we directly use the databases that the authors provide. But you also can compare in case you want.\n",
    "- Download the original database [here](https://github.com/tdenottelander/MacroNAS)."
   ]
  },
  {
   "cell_type": "code",
   "execution_count": 43,
   "metadata": {},
   "outputs": [],
   "source": [
    "import json"
   ]
  },
  {
   "attachments": {},
   "cell_type": "markdown",
   "metadata": {},
   "source": [
    "### CIFAR-10"
   ]
  },
  {
   "cell_type": "code",
   "execution_count": 50,
   "metadata": {},
   "outputs": [],
   "source": [
    "api_database = json.load(open(f'/home/thaihu/Downloads/data/benchmark_cifar10_dataset.json'))\n",
    "our_database = json.load(open(f'/home/thaihu/Downloads/data/[CIFAR10]_data.json'))"
   ]
  },
  {
   "cell_type": "code",
   "execution_count": 52,
   "metadata": {},
   "outputs": [
    {
     "name": "stdout",
     "output_type": "stream",
     "text": [
      "No differences!\n"
     ]
    }
   ],
   "source": [
    "list_diff = []\n",
    "for arch in api_database:\n",
    "    api_val_acc = our_database[arch]['val_acc']\n",
    "    api_test_acc = our_database[arch]['test_acc']\n",
    "    api_flops = our_database[arch]['MMACs']\n",
    "\n",
    "    our_val_acc = our_database[arch]['val_acc']\n",
    "    our_test_acc = our_database[arch]['test_acc']\n",
    "    our_flops = our_database[arch]['MMACs']\n",
    "\n",
    "    api_res = [api_val_acc, api_test_acc, api_flops]\n",
    "    our_res = [our_val_acc, our_test_acc, our_flops]\n",
    "    if not api_res == our_res:\n",
    "        list_diff.append([arch, api_res, our_res])\n",
    "if len(list_diff) != 0:\n",
    "    print('There exists differences!')\n",
    "    print(list_diff)\n",
    "else:\n",
    "    print('No differences!')"
   ]
  },
  {
   "cell_type": "code",
   "execution_count": 53,
   "metadata": {},
   "outputs": [],
   "source": [
    "api_database = json.load(open(f'/home/thaihu/Downloads/data/benchmark_cifar100_dataset.json'))\n",
    "our_database = json.load(open(f'/home/thaihu/Downloads/data/[CIFAR100]_data.json'))"
   ]
  },
  {
   "cell_type": "code",
   "execution_count": 54,
   "metadata": {},
   "outputs": [
    {
     "name": "stdout",
     "output_type": "stream",
     "text": [
      "No differences!\n"
     ]
    }
   ],
   "source": [
    "list_diff = []\n",
    "for arch in api_database:\n",
    "    api_val_acc = our_database[arch]['val_acc']\n",
    "    api_test_acc = our_database[arch]['test_acc']\n",
    "    api_flops = our_database[arch]['MMACs']\n",
    "\n",
    "    our_val_acc = our_database[arch]['val_acc']\n",
    "    our_test_acc = our_database[arch]['test_acc']\n",
    "    our_flops = our_database[arch]['MMACs']\n",
    "\n",
    "    api_res = [api_val_acc, api_test_acc, api_flops]\n",
    "    our_res = [our_val_acc, our_test_acc, our_flops]\n",
    "    if not api_res == our_res:\n",
    "        list_diff.append([arch, api_res, our_res])\n",
    "if len(list_diff) != 0:\n",
    "    print('There exists differences!')\n",
    "    print(list_diff)\n",
    "else:\n",
    "    print('No differences!')"
   ]
  },
  {
   "attachments": {},
   "cell_type": "markdown",
   "metadata": {},
   "source": [
    "## NAS-Bench-201"
   ]
  },
  {
   "attachments": {},
   "cell_type": "markdown",
   "metadata": {},
   "source": [
    "You need download the database of NAS-Bench-201 [here](https://drive.google.com/file/d/17_saCsj_krKjlCBLOJEpNtzPXArMCqxU/view) or re-utilize the database that we have downloaded before."
   ]
  },
  {
   "cell_type": "code",
   "execution_count": 1,
   "metadata": {},
   "outputs": [
    {
     "name": "stdout",
     "output_type": "stream",
     "text": [
      "Collecting nats-bench\n",
      "  Downloading nats_bench-1.8-py3-none-any.whl (32 kB)\n",
      "Collecting numpy>=1.16.5\n",
      "  Downloading numpy-1.24.4-cp38-cp38-manylinux_2_17_x86_64.manylinux2014_x86_64.whl (17.3 MB)\n",
      "\u001b[K     |████████████████████████████████| 17.3 MB 2.7 MB/s eta 0:00:01\n",
      "\u001b[?25hInstalling collected packages: numpy, nats-bench\n",
      "Successfully installed nats-bench-1.8 numpy-1.24.4\n"
     ]
    }
   ],
   "source": [
    "!pip install nats-bench"
   ]
  },
  {
   "cell_type": "code",
   "execution_count": 6,
   "metadata": {},
   "outputs": [],
   "source": [
    "import random\n",
    "import numpy as np\n",
    "import pickle as p\n",
    "from nats_bench import create"
   ]
  },
  {
   "cell_type": "code",
   "execution_count": null,
   "metadata": {},
   "outputs": [],
   "source": [
    "def encoded_arch_2_api_encoding(encoded_arch):\n",
    "    list_int_ops = np.array(list(map(int, list(encoded_arch))))\n",
    "    list_str_ops = list_ops[list_int_ops]\n",
    "    return '|{}~0|+|{}~0|{}~1|+|{}~0|{}~1|{}~2|'.format(*list_str_ops)"
   ]
  },
  {
   "cell_type": "code",
   "execution_count": 16,
   "metadata": {},
   "outputs": [],
   "source": [
    "api_path = '/home/thaihu/Downloads/NATS-tss-v1_0-3ffb9-simple.tar'\n",
    "our_database_path = '/home/thaihu/Downloads/data'"
   ]
  },
  {
   "cell_type": "code",
   "execution_count": null,
   "metadata": {},
   "outputs": [],
   "source": [
    "api = create(api_path, 'tss', fast_mode=True, verbose=False)"
   ]
  },
  {
   "attachments": {},
   "cell_type": "markdown",
   "metadata": {},
   "source": [
    "### CIFAR-10"
   ]
  },
  {
   "cell_type": "code",
   "execution_count": 55,
   "metadata": {},
   "outputs": [],
   "source": [
    "our_database = p.load(open(our_database_path + f'/[CIFAR-10]_data.p', 'rb'))"
   ]
  },
  {
   "cell_type": "code",
   "execution_count": 58,
   "metadata": {},
   "outputs": [
    {
     "name": "stdout",
     "output_type": "stream",
     "text": [
      "Scanned over 0/15625 architectures.\n",
      "Scanned over 200/15625 architectures.\n",
      "Scanned over 400/15625 architectures.\n",
      "Scanned over 600/15625 architectures.\n",
      "Scanned over 800/15625 architectures.\n",
      "Scanned over 1000/15625 architectures.\n",
      "Scanned over 1200/15625 architectures.\n",
      "Scanned over 1400/15625 architectures.\n",
      "Scanned over 1600/15625 architectures.\n",
      "Scanned over 1800/15625 architectures.\n",
      "Scanned over 2000/15625 architectures.\n",
      "Scanned over 2200/15625 architectures.\n",
      "Scanned over 2400/15625 architectures.\n",
      "Scanned over 2600/15625 architectures.\n",
      "Scanned over 2800/15625 architectures.\n",
      "Scanned over 3000/15625 architectures.\n",
      "Scanned over 3200/15625 architectures.\n",
      "Scanned over 3400/15625 architectures.\n",
      "Scanned over 3600/15625 architectures.\n",
      "Scanned over 3800/15625 architectures.\n",
      "Scanned over 4000/15625 architectures.\n",
      "Scanned over 4200/15625 architectures.\n",
      "Scanned over 4400/15625 architectures.\n",
      "Scanned over 4600/15625 architectures.\n",
      "Scanned over 4800/15625 architectures.\n",
      "Scanned over 5000/15625 architectures.\n",
      "Scanned over 5200/15625 architectures.\n",
      "Scanned over 5400/15625 architectures.\n",
      "Scanned over 5600/15625 architectures.\n",
      "Scanned over 5800/15625 architectures.\n",
      "Scanned over 6000/15625 architectures.\n",
      "Scanned over 6200/15625 architectures.\n",
      "Scanned over 6400/15625 architectures.\n",
      "Scanned over 6600/15625 architectures.\n",
      "Scanned over 6800/15625 architectures.\n",
      "Scanned over 7000/15625 architectures.\n",
      "Scanned over 7200/15625 architectures.\n",
      "Scanned over 7400/15625 architectures.\n",
      "Scanned over 7600/15625 architectures.\n",
      "Scanned over 7800/15625 architectures.\n",
      "Scanned over 8000/15625 architectures.\n",
      "Scanned over 8200/15625 architectures.\n",
      "Scanned over 8400/15625 architectures.\n",
      "Scanned over 8600/15625 architectures.\n",
      "Scanned over 8800/15625 architectures.\n",
      "Scanned over 9000/15625 architectures.\n",
      "Scanned over 9200/15625 architectures.\n",
      "Scanned over 9400/15625 architectures.\n",
      "Scanned over 9600/15625 architectures.\n",
      "Scanned over 9800/15625 architectures.\n",
      "Scanned over 10000/15625 architectures.\n",
      "Scanned over 10200/15625 architectures.\n",
      "Scanned over 10400/15625 architectures.\n",
      "Scanned over 10600/15625 architectures.\n",
      "Scanned over 10800/15625 architectures.\n",
      "Scanned over 11000/15625 architectures.\n",
      "Scanned over 11200/15625 architectures.\n",
      "Scanned over 11400/15625 architectures.\n",
      "Scanned over 11600/15625 architectures.\n",
      "Scanned over 11800/15625 architectures.\n",
      "Scanned over 12000/15625 architectures.\n",
      "Scanned over 12200/15625 architectures.\n",
      "Scanned over 12400/15625 architectures.\n",
      "Scanned over 12600/15625 architectures.\n",
      "Scanned over 12800/15625 architectures.\n",
      "Scanned over 13000/15625 architectures.\n",
      "Scanned over 13200/15625 architectures.\n",
      "Scanned over 13400/15625 architectures.\n",
      "Scanned over 13600/15625 architectures.\n",
      "Scanned over 13800/15625 architectures.\n",
      "Scanned over 14000/15625 architectures.\n",
      "Scanned over 14200/15625 architectures.\n",
      "Scanned over 14400/15625 architectures.\n",
      "Scanned over 14600/15625 architectures.\n",
      "Scanned over 14800/15625 architectures.\n",
      "Scanned over 15000/15625 architectures.\n",
      "Scanned over 15200/15625 architectures.\n",
      "Scanned over 15400/15625 architectures.\n",
      "Scanned over 15600/15625 architectures.\n",
      "No differences!\n"
     ]
    }
   ],
   "source": [
    "list_ops = np.array(['none', 'skip_connect', 'nor_conv_1x1', 'nor_conv_3x3', 'avg_pool_3x3'])\n",
    "\n",
    "\n",
    "list_diff = []\n",
    "list_encoded_arch = list(our_database['200'].keys())\n",
    "for i, encoded_arch in enumerate(list_encoded_arch):\n",
    "    arch = encoded_arch_2_api_encoding(encoded_arch)\n",
    "    arch_index = api.query_index_by_arch(arch)\n",
    "\n",
    "    api_val_acc_12 = np.round(api.get_more_info(arch_index, 'cifar10-valid', hp='200', iepoch=11, is_random=False)['valid-accuracy']/100, 4)\n",
    "    api_test_acc = np.round(api.get_more_info(arch_index, 'cifar10', hp='200', is_random=False)['test-accuracy']/100, 4)\n",
    "    api_flops = api.get_cost_info(arch_index, 'cifar10', hp='200')['flops']\n",
    "\n",
    "    our_val_acc_12 = our_database['200'][encoded_arch]['val_acc'][11]\n",
    "    our_test_acc = our_database['200'][encoded_arch]['test_acc'][-1]\n",
    "    our_flops = our_database['200'][encoded_arch]['FLOPs']\n",
    "\n",
    "    api_res = [api_val_acc_12, api_test_acc, api_flops]\n",
    "    our_res = [our_val_acc_12, our_test_acc, our_flops]\n",
    "\n",
    "    if not api_res == our_res:\n",
    "        list_diff.append([encoded_arch, api_res, our_res])\n",
    "    if i % 200 == 0:\n",
    "        print(f'Scanned over {i}/15625 architectures.')\n",
    "if len(list_diff) != 0:\n",
    "    print('There exists differences!')\n",
    "    print(list_diff)\n",
    "else:\n",
    "    print('No differences!')"
   ]
  },
  {
   "attachments": {},
   "cell_type": "markdown",
   "metadata": {},
   "source": [
    "### CIFAR-100"
   ]
  },
  {
   "cell_type": "code",
   "execution_count": 59,
   "metadata": {},
   "outputs": [],
   "source": [
    "our_database = p.load(open(our_database_path + f'/[CIFAR-100]_data.p', 'rb'))"
   ]
  },
  {
   "cell_type": "code",
   "execution_count": 60,
   "metadata": {},
   "outputs": [
    {
     "name": "stdout",
     "output_type": "stream",
     "text": [
      "Scanned over 0/15625 architectures.\n",
      "Scanned over 200/15625 architectures.\n",
      "Scanned over 400/15625 architectures.\n",
      "Scanned over 600/15625 architectures.\n",
      "Scanned over 800/15625 architectures.\n",
      "Scanned over 1000/15625 architectures.\n",
      "Scanned over 1200/15625 architectures.\n",
      "Scanned over 1400/15625 architectures.\n",
      "Scanned over 1600/15625 architectures.\n",
      "Scanned over 1800/15625 architectures.\n",
      "Scanned over 2000/15625 architectures.\n",
      "Scanned over 2200/15625 architectures.\n",
      "Scanned over 2400/15625 architectures.\n",
      "Scanned over 2600/15625 architectures.\n",
      "Scanned over 2800/15625 architectures.\n",
      "Scanned over 3000/15625 architectures.\n",
      "Scanned over 3200/15625 architectures.\n",
      "Scanned over 3400/15625 architectures.\n",
      "Scanned over 3600/15625 architectures.\n",
      "Scanned over 3800/15625 architectures.\n",
      "Scanned over 4000/15625 architectures.\n",
      "Scanned over 4200/15625 architectures.\n",
      "Scanned over 4400/15625 architectures.\n",
      "Scanned over 4600/15625 architectures.\n",
      "Scanned over 4800/15625 architectures.\n",
      "Scanned over 5000/15625 architectures.\n",
      "Scanned over 5200/15625 architectures.\n",
      "Scanned over 5400/15625 architectures.\n",
      "Scanned over 5600/15625 architectures.\n",
      "Scanned over 5800/15625 architectures.\n",
      "Scanned over 6000/15625 architectures.\n",
      "Scanned over 6200/15625 architectures.\n",
      "Scanned over 6400/15625 architectures.\n",
      "Scanned over 6600/15625 architectures.\n",
      "Scanned over 6800/15625 architectures.\n",
      "Scanned over 7000/15625 architectures.\n",
      "Scanned over 7200/15625 architectures.\n",
      "Scanned over 7400/15625 architectures.\n",
      "Scanned over 7600/15625 architectures.\n",
      "Scanned over 7800/15625 architectures.\n",
      "Scanned over 8000/15625 architectures.\n",
      "Scanned over 8200/15625 architectures.\n",
      "Scanned over 8400/15625 architectures.\n",
      "Scanned over 8600/15625 architectures.\n",
      "Scanned over 8800/15625 architectures.\n",
      "Scanned over 9000/15625 architectures.\n",
      "Scanned over 9200/15625 architectures.\n",
      "Scanned over 9400/15625 architectures.\n",
      "Scanned over 9600/15625 architectures.\n",
      "Scanned over 9800/15625 architectures.\n",
      "Scanned over 10000/15625 architectures.\n",
      "Scanned over 10200/15625 architectures.\n",
      "Scanned over 10400/15625 architectures.\n",
      "Scanned over 10600/15625 architectures.\n",
      "Scanned over 10800/15625 architectures.\n",
      "Scanned over 11000/15625 architectures.\n",
      "Scanned over 11200/15625 architectures.\n",
      "Scanned over 11400/15625 architectures.\n",
      "Scanned over 11600/15625 architectures.\n",
      "Scanned over 11800/15625 architectures.\n",
      "Scanned over 12000/15625 architectures.\n",
      "Scanned over 12200/15625 architectures.\n",
      "Scanned over 12400/15625 architectures.\n",
      "Scanned over 12600/15625 architectures.\n",
      "Scanned over 12800/15625 architectures.\n",
      "Scanned over 13000/15625 architectures.\n",
      "Scanned over 13200/15625 architectures.\n",
      "Scanned over 13400/15625 architectures.\n",
      "Scanned over 13600/15625 architectures.\n",
      "Scanned over 13800/15625 architectures.\n",
      "Scanned over 14000/15625 architectures.\n",
      "Scanned over 14200/15625 architectures.\n",
      "Scanned over 14400/15625 architectures.\n",
      "Scanned over 14600/15625 architectures.\n",
      "Scanned over 14800/15625 architectures.\n",
      "Scanned over 15000/15625 architectures.\n",
      "Scanned over 15200/15625 architectures.\n",
      "Scanned over 15400/15625 architectures.\n",
      "Scanned over 15600/15625 architectures.\n",
      "No differences!\n"
     ]
    }
   ],
   "source": [
    "list_ops = np.array(['none', 'skip_connect', 'nor_conv_1x1', 'nor_conv_3x3', 'avg_pool_3x3'])\n",
    "\n",
    "\n",
    "list_diff = []\n",
    "list_encoded_arch = list(our_database['200'].keys())\n",
    "for i, encoded_arch in enumerate(list_encoded_arch):\n",
    "    arch = encoded_arch_2_api_encoding(encoded_arch)\n",
    "    arch_index = api.query_index_by_arch(arch)\n",
    "\n",
    "    api_val_acc_12 = np.round(api.get_more_info(arch_index, 'cifar100', hp='200', iepoch=11, is_random=False)['valtest-accuracy']/100, 4)\n",
    "    api_test_acc = np.round(api.get_more_info(arch_index, 'cifar100', hp='200', is_random=False)['test-accuracy']/100, 4)\n",
    "    api_flops = api.get_cost_info(arch_index, 'cifar100', hp='200')['flops']\n",
    "\n",
    "    our_val_acc_12 = our_database['200'][encoded_arch]['val_acc'][11]\n",
    "    our_test_acc = our_database['200'][encoded_arch]['test_acc'][-1]\n",
    "    our_flops = our_database['200'][encoded_arch]['FLOPs']\n",
    "\n",
    "    api_res = [api_val_acc_12, api_test_acc, api_flops]\n",
    "    our_res = [our_val_acc_12, our_test_acc, our_flops]\n",
    "\n",
    "    if not api_res == our_res:\n",
    "        list_diff.append([encoded_arch, api_res, our_res])\n",
    "    if i % 200 == 0:\n",
    "        print(f'Scanned over {i}/15625 architectures.')\n",
    "if len(list_diff) != 0:\n",
    "    print('There exists differences!')\n",
    "    print(list_diff)\n",
    "else:\n",
    "    print('No differences!')"
   ]
  },
  {
   "attachments": {},
   "cell_type": "markdown",
   "metadata": {},
   "source": [
    "### ImageNet16-120"
   ]
  },
  {
   "cell_type": "code",
   "execution_count": 61,
   "metadata": {},
   "outputs": [],
   "source": [
    "our_database = p.load(open(our_database_path + f'/[ImageNet16-120]_data.p', 'rb'))"
   ]
  },
  {
   "cell_type": "code",
   "execution_count": 62,
   "metadata": {},
   "outputs": [
    {
     "name": "stdout",
     "output_type": "stream",
     "text": [
      "Scanned over 0/15625 architectures.\n",
      "Scanned over 200/15625 architectures.\n",
      "Scanned over 400/15625 architectures.\n",
      "Scanned over 600/15625 architectures.\n",
      "Scanned over 800/15625 architectures.\n",
      "Scanned over 1000/15625 architectures.\n",
      "Scanned over 1200/15625 architectures.\n",
      "Scanned over 1400/15625 architectures.\n",
      "Scanned over 1600/15625 architectures.\n",
      "Scanned over 1800/15625 architectures.\n",
      "Scanned over 2000/15625 architectures.\n",
      "Scanned over 2200/15625 architectures.\n",
      "Scanned over 2400/15625 architectures.\n",
      "Scanned over 2600/15625 architectures.\n",
      "Scanned over 2800/15625 architectures.\n",
      "Scanned over 3000/15625 architectures.\n",
      "Scanned over 3200/15625 architectures.\n",
      "Scanned over 3400/15625 architectures.\n",
      "Scanned over 3600/15625 architectures.\n",
      "Scanned over 3800/15625 architectures.\n",
      "Scanned over 4000/15625 architectures.\n",
      "Scanned over 4200/15625 architectures.\n",
      "Scanned over 4400/15625 architectures.\n",
      "Scanned over 4600/15625 architectures.\n",
      "Scanned over 4800/15625 architectures.\n",
      "Scanned over 5000/15625 architectures.\n",
      "Scanned over 5200/15625 architectures.\n",
      "Scanned over 5400/15625 architectures.\n",
      "Scanned over 5600/15625 architectures.\n",
      "Scanned over 5800/15625 architectures.\n",
      "Scanned over 6000/15625 architectures.\n",
      "Scanned over 6200/15625 architectures.\n",
      "Scanned over 6400/15625 architectures.\n",
      "Scanned over 6600/15625 architectures.\n",
      "Scanned over 6800/15625 architectures.\n",
      "Scanned over 7000/15625 architectures.\n",
      "Scanned over 7200/15625 architectures.\n",
      "Scanned over 7400/15625 architectures.\n",
      "Scanned over 7600/15625 architectures.\n",
      "Scanned over 7800/15625 architectures.\n",
      "Scanned over 8000/15625 architectures.\n",
      "Scanned over 8200/15625 architectures.\n",
      "Scanned over 8400/15625 architectures.\n",
      "Scanned over 8600/15625 architectures.\n",
      "Scanned over 8800/15625 architectures.\n",
      "Scanned over 9000/15625 architectures.\n",
      "Scanned over 9200/15625 architectures.\n",
      "Scanned over 9400/15625 architectures.\n",
      "Scanned over 9600/15625 architectures.\n",
      "Scanned over 9800/15625 architectures.\n",
      "Scanned over 10000/15625 architectures.\n",
      "Scanned over 10200/15625 architectures.\n",
      "Scanned over 10400/15625 architectures.\n",
      "Scanned over 10600/15625 architectures.\n",
      "Scanned over 10800/15625 architectures.\n",
      "Scanned over 11000/15625 architectures.\n",
      "Scanned over 11200/15625 architectures.\n",
      "Scanned over 11400/15625 architectures.\n",
      "Scanned over 11600/15625 architectures.\n",
      "Scanned over 11800/15625 architectures.\n",
      "Scanned over 12000/15625 architectures.\n",
      "Scanned over 12200/15625 architectures.\n",
      "Scanned over 12400/15625 architectures.\n",
      "Scanned over 12600/15625 architectures.\n",
      "Scanned over 12800/15625 architectures.\n",
      "Scanned over 13000/15625 architectures.\n",
      "Scanned over 13200/15625 architectures.\n",
      "Scanned over 13400/15625 architectures.\n",
      "Scanned over 13600/15625 architectures.\n",
      "Scanned over 13800/15625 architectures.\n",
      "Scanned over 14000/15625 architectures.\n",
      "Scanned over 14200/15625 architectures.\n",
      "Scanned over 14400/15625 architectures.\n",
      "Scanned over 14600/15625 architectures.\n",
      "Scanned over 14800/15625 architectures.\n",
      "Scanned over 15000/15625 architectures.\n",
      "Scanned over 15200/15625 architectures.\n",
      "Scanned over 15400/15625 architectures.\n",
      "Scanned over 15600/15625 architectures.\n",
      "No differences!\n"
     ]
    }
   ],
   "source": [
    "list_ops = np.array(['none', 'skip_connect', 'nor_conv_1x1', 'nor_conv_3x3', 'avg_pool_3x3'])\n",
    "\n",
    "\n",
    "list_diff = []\n",
    "list_encoded_arch = list(our_database['200'].keys())\n",
    "for i, encoded_arch in enumerate(list_encoded_arch):\n",
    "    arch = encoded_arch_2_api_encoding(encoded_arch)\n",
    "    arch_index = api.query_index_by_arch(arch)\n",
    "\n",
    "    api_val_acc_12 = np.round(api.get_more_info(arch_index, 'ImageNet16-120', hp='200', iepoch=11, is_random=False)['valtest-accuracy']/100, 4)\n",
    "    api_test_acc = np.round(api.get_more_info(arch_index, 'ImageNet16-120', hp='200', is_random=False)['test-accuracy']/100, 4)\n",
    "    api_flops = api.get_cost_info(arch_index, 'ImageNet16-120', hp='200')['flops']\n",
    "\n",
    "    our_val_acc_12 = our_database['200'][encoded_arch]['val_acc'][11]\n",
    "    our_test_acc = our_database['200'][encoded_arch]['test_acc'][-1]\n",
    "    our_flops = our_database['200'][encoded_arch]['FLOPs']\n",
    "\n",
    "    api_res = [api_val_acc_12, api_test_acc, api_flops]\n",
    "    our_res = [our_val_acc_12, our_test_acc, our_flops]\n",
    "\n",
    "    if not api_res == our_res:\n",
    "        list_diff.append([encoded_arch, api_res, our_res])\n",
    "    if i % 200 == 0:\n",
    "        print(f'Scanned over {i}/15625 architectures.')\n",
    "if len(list_diff) != 0:\n",
    "    print('There exists differences!')\n",
    "    print(list_diff)\n",
    "else:\n",
    "    print('No differences!')"
   ]
  },
  {
   "attachments": {},
   "cell_type": "markdown",
   "metadata": {},
   "source": [
    "## NAS-Bench-ASR"
   ]
  },
  {
   "attachments": {},
   "cell_type": "markdown",
   "metadata": {},
   "source": [
    "You need to download the original database [here](https://github.com/SamsungLabs/nb-asr)"
   ]
  },
  {
   "cell_type": "code",
   "execution_count": 97,
   "metadata": {},
   "outputs": [
    {
     "name": "stdout",
     "output_type": "stream",
     "text": [
      "Scanned over 0/8242 architectures.\n",
      "Scanned over 200/8242 architectures.\n",
      "Scanned over 400/8242 architectures.\n",
      "Scanned over 600/8242 architectures.\n",
      "Scanned over 800/8242 architectures.\n",
      "Scanned over 1000/8242 architectures.\n",
      "Scanned over 1200/8242 architectures.\n",
      "Scanned over 1400/8242 architectures.\n",
      "Scanned over 1600/8242 architectures.\n",
      "Scanned over 1800/8242 architectures.\n",
      "Scanned over 2000/8242 architectures.\n",
      "Scanned over 2200/8242 architectures.\n",
      "Scanned over 2400/8242 architectures.\n",
      "Scanned over 2600/8242 architectures.\n",
      "Scanned over 2800/8242 architectures.\n",
      "Scanned over 3000/8242 architectures.\n",
      "Scanned over 3200/8242 architectures.\n",
      "Scanned over 3400/8242 architectures.\n",
      "Scanned over 3600/8242 architectures.\n",
      "Scanned over 3800/8242 architectures.\n",
      "Scanned over 4000/8242 architectures.\n",
      "Scanned over 4200/8242 architectures.\n",
      "Scanned over 4400/8242 architectures.\n",
      "Scanned over 4600/8242 architectures.\n",
      "Scanned over 4800/8242 architectures.\n",
      "Scanned over 5000/8242 architectures.\n",
      "Scanned over 5200/8242 architectures.\n",
      "Scanned over 5400/8242 architectures.\n",
      "Scanned over 5600/8242 architectures.\n",
      "Scanned over 5800/8242 architectures.\n",
      "Scanned over 6000/8242 architectures.\n",
      "Scanned over 6200/8242 architectures.\n",
      "Scanned over 6400/8242 architectures.\n",
      "Scanned over 6600/8242 architectures.\n",
      "Scanned over 6800/8242 architectures.\n",
      "Scanned over 7000/8242 architectures.\n",
      "Scanned over 7200/8242 architectures.\n",
      "Scanned over 7400/8242 architectures.\n",
      "Scanned over 7600/8242 architectures.\n",
      "Scanned over 7800/8242 architectures.\n",
      "Scanned over 8000/8242 architectures.\n",
      "Scanned over 8200/8242 architectures.\n",
      "No differences!\n"
     ]
    }
   ],
   "source": [
    "with open('/home/thaihu/Downloads/data/nb-asr-e40-1234.pickle', 'rb') as f:\n",
    "    header = p.load(f)\n",
    "    data1 = p.load(f)\n",
    "\n",
    "with open('/home/thaihu/Downloads/data/nb-asr-e40-1235.pickle', 'rb') as f:\n",
    "    header = p.load(f)\n",
    "    data2 = p.load(f)\n",
    "\n",
    "\n",
    "with open('/home/thaihu/Downloads/data/nb-asr-e40-1236.pickle', 'rb') as f:\n",
    "    header = p.load(f)\n",
    "    data3 = p.load(f)\n",
    "\n",
    "with open('/home/thaihu/Downloads/data/nb-asr-info.pickle', 'rb') as f:\n",
    "    header = p.load(f)\n",
    "    data4 = p.load(f)\n",
    "\n",
    "our_database = p.load(open('/home/thaihu/Downloads/data/[TIMIT]_data.p', 'rb'))\n",
    "\n",
    "list_arch = [content[0] for content in data1]\n",
    "list_diff = []\n",
    "\n",
    "for i, arch in enumerate(list_arch):\n",
    "    val_per_1234 = data1[i][1]\n",
    "    test_per_1234 = data1[i][2]\n",
    "\n",
    "    val_per_1235 = data2[i][1]\n",
    "    test_per_1235 = data2[i][2]\n",
    "\n",
    "    val_per_1236 = data3[i][1]\n",
    "    test_per_1236 = data3[i][2]\n",
    "\n",
    "    val_per_all = np.array([val_per_1234, val_per_1235, val_per_1236])\n",
    "    val_per_mean = np.mean(val_per_all, axis=0)\n",
    "    \n",
    "    api_val_per_12 = val_per_mean[11]\n",
    "    api_test_per = (test_per_1234 + test_per_1235 + test_per_1236) / 3\n",
    "    api_flops = int(data4[i][2])\n",
    "\n",
    "    our_val_per_12 = our_database[arch]['val_per'][11]\n",
    "    our_test_per = our_database[arch]['test_per']\n",
    "    our_flops = our_database[arch]['FLOPs']\n",
    "\n",
    "    api_res = [api_val_per_12, api_test_per, api_flops]\n",
    "    our_res = [our_val_per_12, our_test_per, our_flops]\n",
    "\n",
    "    if not api_res == our_res:\n",
    "        list_diff.append([encoded_arch, api_res, our_res])\n",
    "    if i % 200 == 0:\n",
    "        print(f'Scanned over {i}/{len(list_arch)} architectures.')\n",
    "if len(list_diff) != 0:\n",
    "    print('There exists differences!')\n",
    "    print(list_diff)\n",
    "else:\n",
    "    print('No differences!')"
   ]
  },
  {
   "attachments": {},
   "cell_type": "markdown",
   "metadata": {},
   "source": [
    "## NAS-Bench-101"
   ]
  },
  {
   "attachments": {},
   "cell_type": "markdown",
   "metadata": {},
   "source": [
    "In process!"
   ]
  }
 ],
 "metadata": {
  "kernelspec": {
   "display_name": "Python 3",
   "language": "python",
   "name": "python3"
  },
  "language_info": {
   "codemirror_mode": {
    "name": "ipython",
    "version": 3
   },
   "file_extension": ".py",
   "mimetype": "text/x-python",
   "name": "python",
   "nbconvert_exporter": "python",
   "pygments_lexer": "ipython3",
   "version": "3.8.10"
  },
  "orig_nbformat": 4
 },
 "nbformat": 4,
 "nbformat_minor": 2
}
